{
 "cells": [
  {
   "cell_type": "code",
   "execution_count": 20,
   "id": "0f1dd1dd",
   "metadata": {},
   "outputs": [],
   "source": [
    "import pandas as pd\n",
    "import xgboost as xgb\n",
    "from sklearn.model_selection import train_test_split\n",
    "from sklearn.metrics import mean_squared_error\n",
    "from sklearn.metrics import make_scorer\n",
    "from sklearn.model_selection import cross_val_score\n",
    "from sklearn.model_selection import KFold\n",
    "# 读取CSV文件\n",
    "data = pd.read_csv('new.csv')"
   ]
  },
  {
   "cell_type": "code",
   "execution_count": 21,
   "id": "ab9b4595",
   "metadata": {},
   "outputs": [],
   "source": [
    "# 选择多个列作为特征\n",
    "selected_features = ['entity_id', 'current_dis','speeds','holidays','end_longitude','end_latitude','start_longitude','start_latitude']\n",
    "X = data[selected_features]\n",
    "# 选择目标列作为标签\n",
    "y = data['time_diff']"
   ]
  },
  {
   "cell_type": "code",
   "execution_count": 31,
   "id": "b43cc18e",
   "metadata": {},
   "outputs": [
    {
     "data": {
      "text/html": [
       "<style>#sk-container-id-4 {color: black;}#sk-container-id-4 pre{padding: 0;}#sk-container-id-4 div.sk-toggleable {background-color: white;}#sk-container-id-4 label.sk-toggleable__label {cursor: pointer;display: block;width: 100%;margin-bottom: 0;padding: 0.3em;box-sizing: border-box;text-align: center;}#sk-container-id-4 label.sk-toggleable__label-arrow:before {content: \"▸\";float: left;margin-right: 0.25em;color: #696969;}#sk-container-id-4 label.sk-toggleable__label-arrow:hover:before {color: black;}#sk-container-id-4 div.sk-estimator:hover label.sk-toggleable__label-arrow:before {color: black;}#sk-container-id-4 div.sk-toggleable__content {max-height: 0;max-width: 0;overflow: hidden;text-align: left;background-color: #f0f8ff;}#sk-container-id-4 div.sk-toggleable__content pre {margin: 0.2em;color: black;border-radius: 0.25em;background-color: #f0f8ff;}#sk-container-id-4 input.sk-toggleable__control:checked~div.sk-toggleable__content {max-height: 200px;max-width: 100%;overflow: auto;}#sk-container-id-4 input.sk-toggleable__control:checked~label.sk-toggleable__label-arrow:before {content: \"▾\";}#sk-container-id-4 div.sk-estimator input.sk-toggleable__control:checked~label.sk-toggleable__label {background-color: #d4ebff;}#sk-container-id-4 div.sk-label input.sk-toggleable__control:checked~label.sk-toggleable__label {background-color: #d4ebff;}#sk-container-id-4 input.sk-hidden--visually {border: 0;clip: rect(1px 1px 1px 1px);clip: rect(1px, 1px, 1px, 1px);height: 1px;margin: -1px;overflow: hidden;padding: 0;position: absolute;width: 1px;}#sk-container-id-4 div.sk-estimator {font-family: monospace;background-color: #f0f8ff;border: 1px dotted black;border-radius: 0.25em;box-sizing: border-box;margin-bottom: 0.5em;}#sk-container-id-4 div.sk-estimator:hover {background-color: #d4ebff;}#sk-container-id-4 div.sk-parallel-item::after {content: \"\";width: 100%;border-bottom: 1px solid gray;flex-grow: 1;}#sk-container-id-4 div.sk-label:hover label.sk-toggleable__label {background-color: #d4ebff;}#sk-container-id-4 div.sk-serial::before {content: \"\";position: absolute;border-left: 1px solid gray;box-sizing: border-box;top: 0;bottom: 0;left: 50%;z-index: 0;}#sk-container-id-4 div.sk-serial {display: flex;flex-direction: column;align-items: center;background-color: white;padding-right: 0.2em;padding-left: 0.2em;position: relative;}#sk-container-id-4 div.sk-item {position: relative;z-index: 1;}#sk-container-id-4 div.sk-parallel {display: flex;align-items: stretch;justify-content: center;background-color: white;position: relative;}#sk-container-id-4 div.sk-item::before, #sk-container-id-4 div.sk-parallel-item::before {content: \"\";position: absolute;border-left: 1px solid gray;box-sizing: border-box;top: 0;bottom: 0;left: 50%;z-index: -1;}#sk-container-id-4 div.sk-parallel-item {display: flex;flex-direction: column;z-index: 1;position: relative;background-color: white;}#sk-container-id-4 div.sk-parallel-item:first-child::after {align-self: flex-end;width: 50%;}#sk-container-id-4 div.sk-parallel-item:last-child::after {align-self: flex-start;width: 50%;}#sk-container-id-4 div.sk-parallel-item:only-child::after {width: 0;}#sk-container-id-4 div.sk-dashed-wrapped {border: 1px dashed gray;margin: 0 0.4em 0.5em 0.4em;box-sizing: border-box;padding-bottom: 0.4em;background-color: white;}#sk-container-id-4 div.sk-label label {font-family: monospace;font-weight: bold;display: inline-block;line-height: 1.2em;}#sk-container-id-4 div.sk-label-container {text-align: center;}#sk-container-id-4 div.sk-container {/* jupyter's `normalize.less` sets `[hidden] { display: none; }` but bootstrap.min.css set `[hidden] { display: none !important; }` so we also need the `!important` here to be able to override the default hidden behavior on the sphinx rendered scikit-learn.org. See: https://github.com/scikit-learn/scikit-learn/issues/21755 */display: inline-block !important;position: relative;}#sk-container-id-4 div.sk-text-repr-fallback {display: none;}</style><div id=\"sk-container-id-4\" class=\"sk-top-container\"><div class=\"sk-text-repr-fallback\"><pre>XGBRegressor(base_score=None, booster=None, callbacks=None,\n",
       "             colsample_bylevel=None, colsample_bynode=None,\n",
       "             colsample_bytree=0.8, device=None, early_stopping_rounds=None,\n",
       "             enable_categorical=False, eval_metric=None, feature_types=None,\n",
       "             gamma=None, grow_policy=None, importance_type=None,\n",
       "             interaction_constraints=None, learning_rate=0.1, max_bin=None,\n",
       "             max_cat_threshold=None, max_cat_to_onehot=None,\n",
       "             max_delta_step=None, max_depth=10, max_leaves=None,\n",
       "             min_child_weight=None, missing=nan, monotone_constraints=None,\n",
       "             multi_strategy=None, n_estimators=600, n_jobs=None,\n",
       "             num_parallel_tree=None, random_state=None, ...)</pre><b>In a Jupyter environment, please rerun this cell to show the HTML representation or trust the notebook. <br />On GitHub, the HTML representation is unable to render, please try loading this page with nbviewer.org.</b></div><div class=\"sk-container\" hidden><div class=\"sk-item\"><div class=\"sk-estimator sk-toggleable\"><input class=\"sk-toggleable__control sk-hidden--visually\" id=\"sk-estimator-id-4\" type=\"checkbox\" checked><label for=\"sk-estimator-id-4\" class=\"sk-toggleable__label sk-toggleable__label-arrow\">XGBRegressor</label><div class=\"sk-toggleable__content\"><pre>XGBRegressor(base_score=None, booster=None, callbacks=None,\n",
       "             colsample_bylevel=None, colsample_bynode=None,\n",
       "             colsample_bytree=0.8, device=None, early_stopping_rounds=None,\n",
       "             enable_categorical=False, eval_metric=None, feature_types=None,\n",
       "             gamma=None, grow_policy=None, importance_type=None,\n",
       "             interaction_constraints=None, learning_rate=0.1, max_bin=None,\n",
       "             max_cat_threshold=None, max_cat_to_onehot=None,\n",
       "             max_delta_step=None, max_depth=10, max_leaves=None,\n",
       "             min_child_weight=None, missing=nan, monotone_constraints=None,\n",
       "             multi_strategy=None, n_estimators=600, n_jobs=None,\n",
       "             num_parallel_tree=None, random_state=None, ...)</pre></div></div></div></div></div>"
      ],
      "text/plain": [
       "XGBRegressor(base_score=None, booster=None, callbacks=None,\n",
       "             colsample_bylevel=None, colsample_bynode=None,\n",
       "             colsample_bytree=0.8, device=None, early_stopping_rounds=None,\n",
       "             enable_categorical=False, eval_metric=None, feature_types=None,\n",
       "             gamma=None, grow_policy=None, importance_type=None,\n",
       "             interaction_constraints=None, learning_rate=0.1, max_bin=None,\n",
       "             max_cat_threshold=None, max_cat_to_onehot=None,\n",
       "             max_delta_step=None, max_depth=10, max_leaves=None,\n",
       "             min_child_weight=None, missing=nan, monotone_constraints=None,\n",
       "             multi_strategy=None, n_estimators=600, n_jobs=None,\n",
       "             num_parallel_tree=None, random_state=None, ...)"
      ]
     },
     "execution_count": 31,
     "metadata": {},
     "output_type": "execute_result"
    }
   ],
   "source": [
    "#xgboost模型\n",
    "import numpy as np\n",
    "import xgboost as xgb\n",
    "xg = xgb.XGBRegressor(subsample= 0.9, n_estimators=600, max_depth=10, learning_rate= 0.1, colsample_bytree= 0.8)\n",
    "xg.fit(X, y)"
   ]
  },
  {
   "cell_type": "code",
   "execution_count": 32,
   "id": "79e021c7",
   "metadata": {},
   "outputs": [
    {
     "name": "stdout",
     "output_type": "stream",
     "text": [
      "[ 485.10764 1387.6635   259.57416 ... 1683.3165  1488.5994   400.44052]\n"
     ]
    }
   ],
   "source": [
    "#对eta_task进行预测\n",
    "# 读取文件\n",
    "df = pd.read_csv('modified.csv')\n",
    "feature_new = ['entity_id','current_dis','speeds','holidays','end_longitude','end_latitude','start_longitude','start_latitude']\n",
    "X_new = df[feature_new]\n",
    "y_pred = xg.predict(X_new)\n",
    "print(y_pred)"
   ]
  },
  {
   "cell_type": "code",
   "execution_count": 33,
   "id": "e4cd74e3",
   "metadata": {},
   "outputs": [
    {
     "name": "stdout",
     "output_type": "stream",
     "text": [
      "负数个数: 0\n"
     ]
    }
   ],
   "source": [
    "# 使用numpy的sum函数统计负数的个数\n",
    "count_negative = np.sum(y_pred < 0)\n",
    "# 打印结果\n",
    "print(\"负数个数:\", count_negative)"
   ]
  },
  {
   "cell_type": "code",
   "execution_count": 34,
   "id": "9922422e",
   "metadata": {},
   "outputs": [
    {
     "name": "stdout",
     "output_type": "stream",
     "text": [
      "          id  traj_id                       time  entity_id  \\\n",
      "0        126        9  2013-10-08 22:30:00+00:00        254   \n",
      "1        147       11  2013-10-08 23:00:00+00:00        254   \n",
      "2        171       13  2013-10-08 17:15:00+00:00        255   \n",
      "3        207       16  2013-10-08 19:00:00+00:00        255   \n",
      "4        337       24  2013-10-08 08:00:00+00:00        256   \n",
      "...      ...      ...                        ...        ...   \n",
      "4395  517916    21983  2013-10-30 09:45:00+00:00       4954   \n",
      "4396  518004    21984  2013-10-30 12:30:00+00:00       4954   \n",
      "4397  518196    21991  2013-10-30 19:15:00+00:00       4954   \n",
      "4398  518315    21997  2013-10-30 22:00:00+00:00       4954   \n",
      "4399  518408    21999  2013-10-30 00:00:00+00:00       4955   \n",
      "\n",
      "                 coordinates  current_dis    speeds  holidays  end_longitude  \\\n",
      "0     [116.490013,39.892902]     3.079017  30.97125         0     116.490013   \n",
      "1     [116.450546,39.943771]    12.543428  42.97875         0     116.450546   \n",
      "2     [116.335503,39.763187]     1.500453  45.56250         0     116.335503   \n",
      "3     [116.479919,39.801834]     2.206868  18.41500         0     116.479919   \n",
      "4     [116.229218,39.900791]     7.685249  28.66625         0     116.229218   \n",
      "...                      ...          ...       ...       ...            ...   \n",
      "4395  [116.431107,39.886826]    27.968749  31.37750         0     116.431107   \n",
      "4396   [116.435425,39.89772]     4.673922  34.72625         0     116.435425   \n",
      "4397  [116.373917,39.910656]     7.175550  17.59625         0     116.373917   \n",
      "4398  [116.324913,39.938717]    11.553799  32.04250         0     116.324913   \n",
      "4399  [116.301109,39.985023]     4.662003  36.64000         0     116.301109   \n",
      "\n",
      "      end_latitude  start_longitude  start_latitude  timestamp_column  \\\n",
      "0        39.892902       116.511292       39.904655        1381271400   \n",
      "1        39.943771       116.440742       40.018944        1381273200   \n",
      "2        39.763187       116.341820       39.771339        1381252500   \n",
      "3        39.801834       116.493935       39.789604        1381258800   \n",
      "4        39.900791       116.314941       39.897045        1381219200   \n",
      "...            ...              ...             ...               ...   \n",
      "4395     39.886826       116.460091       39.904179        1383126300   \n",
      "4396     39.897720       116.420525       39.873539        1383136200   \n",
      "4397     39.910656       116.371025       39.846760        1383160500   \n",
      "4398     39.938717       116.281700       39.945621        1383170400   \n",
      "4399     39.985023       116.270699       39.956749        1383091200   \n",
      "\n",
      "                 time_str  \n",
      "0     2013-10-08 22:38:05  \n",
      "1     2013-10-08 23:23:07  \n",
      "2     2013-10-08 17:19:19  \n",
      "3     2013-10-08 19:03:31  \n",
      "4     2013-10-08 08:08:35  \n",
      "...                   ...  \n",
      "4395  2013-10-30 10:58:47  \n",
      "4396  2013-10-30 12:42:58  \n",
      "4397  2013-10-30 19:43:03  \n",
      "4398  2013-10-30 22:24:48  \n",
      "4399  2013-10-30 00:06:40  \n",
      "\n",
      "[4400 rows x 14 columns]\n"
     ]
    }
   ],
   "source": [
    "import pandas as pd\n",
    "from datetime import datetime\n",
    "\n",
    "# 将预测结果和 timestamp 相加，并将和转化为时间格式\n",
    "time_stamp = df['timestamp_column'] + y_pred\n",
    "utc_time_stamp = [datetime.utcfromtimestamp(ts) for ts in time_stamp]\n",
    "df['time_str'] = [ts.strftime(\"%Y-%m-%d %H:%M:%S\") for ts in utc_time_stamp]\n",
    "print(df)"
   ]
  },
  {
   "cell_type": "code",
   "execution_count": 35,
   "id": "c2ec9ec7",
   "metadata": {},
   "outputs": [
    {
     "name": "stdout",
     "output_type": "stream",
     "text": [
      "          id  traj_id                       time  entity_id  \\\n",
      "0        126        9  2013-10-08 22:30:00+00:00        254   \n",
      "1        147       11  2013-10-08 23:00:00+00:00        254   \n",
      "2        171       13  2013-10-08 17:15:00+00:00        255   \n",
      "3        207       16  2013-10-08 19:00:00+00:00        255   \n",
      "4        337       24  2013-10-08 08:00:00+00:00        256   \n",
      "...      ...      ...                        ...        ...   \n",
      "4395  517916    21983  2013-10-30 09:45:00+00:00       4954   \n",
      "4396  518004    21984  2013-10-30 12:30:00+00:00       4954   \n",
      "4397  518196    21991  2013-10-30 19:15:00+00:00       4954   \n",
      "4398  518315    21997  2013-10-30 22:00:00+00:00       4954   \n",
      "4399  518408    21999  2013-10-30 00:00:00+00:00       4955   \n",
      "\n",
      "                 coordinates  current_dis    speeds  holidays  end_longitude  \\\n",
      "0     [116.490013,39.892902]     3.079017  30.97125         0     116.490013   \n",
      "1     [116.450546,39.943771]    12.543428  42.97875         0     116.450546   \n",
      "2     [116.335503,39.763187]     1.500453  45.56250         0     116.335503   \n",
      "3     [116.479919,39.801834]     2.206868  18.41500         0     116.479919   \n",
      "4     [116.229218,39.900791]     7.685249  28.66625         0     116.229218   \n",
      "...                      ...          ...       ...       ...            ...   \n",
      "4395  [116.431107,39.886826]    27.968749  31.37750         0     116.431107   \n",
      "4396   [116.435425,39.89772]     4.673922  34.72625         0     116.435425   \n",
      "4397  [116.373917,39.910656]     7.175550  17.59625         0     116.373917   \n",
      "4398  [116.324913,39.938717]    11.553799  32.04250         0     116.324913   \n",
      "4399  [116.301109,39.985023]     4.662003  36.64000         0     116.301109   \n",
      "\n",
      "      end_latitude  start_longitude  start_latitude  timestamp_column  \\\n",
      "0        39.892902       116.511292       39.904655        1381271400   \n",
      "1        39.943771       116.440742       40.018944        1381273200   \n",
      "2        39.763187       116.341820       39.771339        1381252500   \n",
      "3        39.801834       116.493935       39.789604        1381258800   \n",
      "4        39.900791       116.314941       39.897045        1381219200   \n",
      "...            ...              ...             ...               ...   \n",
      "4395     39.886826       116.460091       39.904179        1383126300   \n",
      "4396     39.897720       116.420525       39.873539        1383136200   \n",
      "4397     39.910656       116.371025       39.846760        1383160500   \n",
      "4398     39.938717       116.281700       39.945621        1383170400   \n",
      "4399     39.985023       116.270699       39.956749        1383091200   \n",
      "\n",
      "                 time_str  \n",
      "0     2013-10-08 22:38:05  \n",
      "1     2013-10-08 23:23:07  \n",
      "2     2013-10-08 17:19:19  \n",
      "3     2013-10-08 19:03:31  \n",
      "4     2013-10-08 08:08:35  \n",
      "...                   ...  \n",
      "4395  2013-10-30 10:58:47  \n",
      "4396  2013-10-30 12:42:58  \n",
      "4397  2013-10-30 19:43:03  \n",
      "4398  2013-10-30 22:24:48  \n",
      "4399  2013-10-30 00:06:40  \n",
      "\n",
      "[4400 rows x 14 columns]\n"
     ]
    }
   ],
   "source": [
    "#将预测结果写入结果csv文件\n",
    "df.to_csv('predict_ans.csv', index=False)\n",
    "# 显示结果\n",
    "print(df)"
   ]
  }
 ],
 "metadata": {
  "kernelspec": {
   "display_name": "Python 3 (ipykernel)",
   "language": "python",
   "name": "python3"
  },
  "language_info": {
   "codemirror_mode": {
    "name": "ipython",
    "version": 3
   },
   "file_extension": ".py",
   "mimetype": "text/x-python",
   "name": "python",
   "nbconvert_exporter": "python",
   "pygments_lexer": "ipython3",
   "version": "3.10.1"
  }
 },
 "nbformat": 4,
 "nbformat_minor": 5
}
