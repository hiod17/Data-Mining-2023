{
 "cells": [
  {
   "cell_type": "code",
   "execution_count": 19,
   "id": "b656678c",
   "metadata": {},
   "outputs": [],
   "source": [
    "import pandas as pd\n",
    "from sklearn.model_selection import train_test_split\n",
    "from sklearn.ensemble import RandomForestRegressor\n",
    "from sklearn.metrics import mean_squared_error"
   ]
  },
  {
   "cell_type": "code",
   "execution_count": 20,
   "id": "e906c9af",
   "metadata": {},
   "outputs": [],
   "source": [
    "df = pd.read_csv('traj.csv')"
   ]
  },
  {
   "cell_type": "code",
   "execution_count": 19,
   "id": "885a1e02",
   "metadata": {},
   "outputs": [
    {
     "name": "stdout",
     "output_type": "stream",
     "text": [
      "   id                  time  entity_id  traj_id             coordinates  \\\n",
      "0   0  2013-10-08T17:45:00Z        254        0  [116.318726,40.009014]   \n",
      "1   1  2013-10-08T17:46:45Z        254        0  [116.315102,40.004784]   \n",
      "2   2  2013-10-08T17:47:39Z        254        0  [116.315018,40.002842]   \n",
      "3   3  2013-10-08T17:49:26Z        254        0  [116.315041,39.998585]   \n",
      "4   4  2013-10-08T17:51:15Z        254        0  [116.315605,39.992554]   \n",
      "\n",
      "   current_dis   speeds  holidays  \n",
      "0     0.000000  36.6900         0  \n",
      "1     0.562623  24.5375         0  \n",
      "2     0.778695  31.9675         0  \n",
      "3     1.252148  19.7850         0  \n",
      "4     1.924533  24.4500         0  \n"
     ]
    }
   ],
   "source": [
    "print(df.head())"
   ]
  },
  {
   "cell_type": "code",
   "execution_count": 20,
   "id": "0bede036",
   "metadata": {},
   "outputs": [
    {
     "data": {
      "text/plain": [
       "id               int64\n",
       "time            object\n",
       "entity_id        int64\n",
       "traj_id          int64\n",
       "coordinates     object\n",
       "current_dis    float64\n",
       "speeds         float64\n",
       "holidays         int64\n",
       "dtype: object"
      ]
     },
     "execution_count": 20,
     "metadata": {},
     "output_type": "execute_result"
    }
   ],
   "source": [
    "df.dtypes"
   ]
  },
  {
   "cell_type": "code",
   "execution_count": 21,
   "id": "ccfcb591",
   "metadata": {},
   "outputs": [
    {
     "name": "stdout",
     "output_type": "stream",
     "text": [
      "            id                      time  entity_id  traj_id  \\\n",
      "0            0 2013-10-08 17:45:00+00:00        254        0   \n",
      "1            1 2013-10-08 17:46:45+00:00        254        0   \n",
      "2            2 2013-10-08 17:47:39+00:00        254        0   \n",
      "3            3 2013-10-08 17:49:26+00:00        254        0   \n",
      "4            4 2013-10-08 17:51:15+00:00        254        0   \n",
      "...        ...                       ...        ...      ...   \n",
      "414839  518403 2013-10-30 23:14:35+00:00       4954    21998   \n",
      "414840  518404 2013-10-30 23:14:59+00:00       4954    21998   \n",
      "414841  518405 2013-10-30 23:16:35+00:00       4954    21998   \n",
      "414842  518406 2013-10-30 23:16:59+00:00       4954    21998   \n",
      "414843  518407 2013-10-30 23:17:11+00:00       4954    21998   \n",
      "\n",
      "                   coordinates  current_dis    speeds  holidays  \\\n",
      "0       [116.318726,40.009014]     0.000000  36.69000         0   \n",
      "1       [116.315102,40.004784]     0.562623  30.61375         0   \n",
      "2       [116.315018,40.002842]     0.778695  34.32875         0   \n",
      "3       [116.315041,39.998585]     1.252148  28.23750         0   \n",
      "4       [116.315605,39.992554]     1.924533  30.57000         0   \n",
      "...                        ...          ...       ...       ...   \n",
      "414839   [116.333366,39.79073]    21.419211  38.91375         0   \n",
      "414840   [116.330444,39.79084]    21.669183  40.38250         0   \n",
      "414841  [116.328453,39.793888]    22.129037  48.36875         0   \n",
      "414842  [116.328072,39.796574]    22.429494  51.09875         0   \n",
      "414843  [116.327988,39.797451]    22.527282  38.34750         0   \n",
      "\n",
      "        end_longitude  end_latitude  start_longitude  start_latitude  \\\n",
      "0          116.318726     40.009014       116.318726       40.009014   \n",
      "1          116.315102     40.004784       116.318726       40.009014   \n",
      "2          116.315018     40.002842       116.318726       40.009014   \n",
      "3          116.315041     39.998585       116.318726       40.009014   \n",
      "4          116.315605     39.992554       116.318726       40.009014   \n",
      "...               ...           ...              ...             ...   \n",
      "414839     116.333366     39.790730       116.309814       39.934753   \n",
      "414840     116.330444     39.790840       116.309814       39.934753   \n",
      "414841     116.328453     39.793888       116.309814       39.934753   \n",
      "414842     116.328072     39.796574       116.309814       39.934753   \n",
      "414843     116.327988     39.797451       116.309814       39.934753   \n",
      "\n",
      "        time_diff  \n",
      "0             0.0  \n",
      "1           105.0  \n",
      "2           159.0  \n",
      "3           266.0  \n",
      "4           375.0  \n",
      "...           ...  \n",
      "414839     1775.0  \n",
      "414840     1799.0  \n",
      "414841     1895.0  \n",
      "414842     1919.0  \n",
      "414843     1931.0  \n",
      "\n",
      "[414844 rows x 13 columns]\n"
     ]
    }
   ],
   "source": [
    "# 将'coordinates'列转化为字符串\n",
    "df['coordinates'] = df['coordinates'].astype(str)\n",
    "# 提取浮点类型数据并分别存入两列\n",
    "df[['end_longitude', 'end_latitude']] = df['coordinates'].str.strip('[]').str.split(',', expand=True).astype(float)\n",
    "# 按照'traj_id'分组，并为每组添加新列'start_longitude'，‘start_latitude’\n",
    "df['start_longitude'] = df.groupby('traj_id')['end_longitude'].transform('first')\n",
    "df['start_latitude'] = df.groupby('traj_id')['end_latitude'].transform('first')\n",
    "#speed转化为平均速度\n",
    "df['speeds'] = df.groupby('traj_id')['speeds'].transform(lambda x: (x + x.iloc[0])/2)\n",
    "#将'time'转化为时间戳，并计算每组相邻两行的时间戳差\n",
    "df['time'] = pd.to_datetime(df['time'])\n",
    "#df['time_diff'] = df.groupby('traj_id')['time'].diff().dt.total_seconds()\n",
    "# 按照 \"traj_id\" 进行分组，计算和所在组第一行的时间戳的差\n",
    "df['time_diff'] = df.groupby('traj_id')['time'].transform(lambda x: (x - x.iloc[0]).dt.total_seconds())\n",
    "\n",
    "print(df)"
   ]
  },
  {
   "cell_type": "code",
   "execution_count": 22,
   "id": "d64ee50e",
   "metadata": {},
   "outputs": [],
   "source": [
    "# 删除id,time和coordinates列\n",
    "column_to_remove = 'id'\n",
    "df = df.drop(columns=[column_to_remove])\n",
    "column_to_remove = 'time'\n",
    "df = df.drop(columns=[column_to_remove])\n",
    "column_to_remove = 'coordinates'\n",
    "df = df.drop(columns=[column_to_remove])\n",
    "# 查找特定列中的空值并将其设为0\n",
    "column_to_fill = 'time_diff'\n",
    "df[column_to_fill].fillna(0, inplace=True)\n",
    "# 将修改后的数据保存到新的CSV文件\n",
    "df.to_csv('new.csv', index=False)"
   ]
  },
  {
   "cell_type": "code",
   "execution_count": 23,
   "id": "6106d212",
   "metadata": {},
   "outputs": [],
   "source": [
    "# 读取CSV文件\n",
    "data = pd.read_csv('new.csv')"
   ]
  },
  {
   "cell_type": "code",
   "execution_count": 24,
   "id": "f5643809",
   "metadata": {},
   "outputs": [],
   "source": [
    "%matplotlib inline"
   ]
  },
  {
   "cell_type": "code",
   "execution_count": 25,
   "id": "9c60a71b",
   "metadata": {},
   "outputs": [
    {
     "data": {
      "text/plain": [
       "(414844, 10)"
      ]
     },
     "execution_count": 25,
     "metadata": {},
     "output_type": "execute_result"
    }
   ],
   "source": [
    "data.shape"
   ]
  },
  {
   "cell_type": "code",
   "execution_count": 26,
   "id": "b3c684dc",
   "metadata": {},
   "outputs": [],
   "source": [
    "# 选择多个列作为特征\n",
    "selected_features = ['entity_id', 'current_dis','speeds','holidays','end_longitude','end_latitude','start_longitude','start_latitude']\n",
    "X = df[selected_features]\n",
    "# 选择目标列作为标签\n",
    "y = df['time_diff']\n",
    "# 拆分数据集为训练集和测试集\n",
    "X_train, X_test, y_train, y_test = train_test_split(X, y, test_size=0.2, random_state=42)"
   ]
  },
  {
   "cell_type": "code",
   "execution_count": 17,
   "id": "c189a8ab",
   "metadata": {},
   "outputs": [
    {
     "name": "stdout",
     "output_type": "stream",
     "text": [
      "模型准确率: 0.9071668071092857\n"
     ]
    }
   ],
   "source": [
    "#随机森林模型（已弃用）\n",
    "rf = RandomForestRegressor()\n",
    "rf = rf.fit(X_train, y_train)\n",
    "# 评估模型性能\n",
    "accuracy = rf.score(X_test, y_test)\n",
    "print(f\"模型准确率: {accuracy}\")"
   ]
  },
  {
   "cell_type": "code",
   "execution_count": 2,
   "id": "bd2ed942",
   "metadata": {},
   "outputs": [],
   "source": [
    "import pandas as pd\n",
    "import xgboost as xgb\n",
    "from sklearn.model_selection import train_test_split\n",
    "from sklearn.metrics import mean_squared_error\n",
    "from sklearn.metrics import make_scorer\n",
    "from sklearn.model_selection import cross_val_score\n",
    "from sklearn.model_selection import KFold\n",
    "# 读取CSV文件\n",
    "data = pd.read_csv('new.csv')\n",
    "# 选择多个列作为特征\n",
    "selected_features = ['entity_id', 'current_dis','speeds','holidays','end_longitude','end_latitude','start_longitude','start_latitude']\n",
    "X = data[selected_features]\n",
    "# 选择目标列作为标签\n",
    "y = data['time_diff']\n",
    "# 拆分数据集为训练集和测试集\n",
    "X_train, X_test, y_train, y_test = train_test_split(X, y, test_size=0.2, random_state=42)"
   ]
  },
  {
   "cell_type": "code",
   "execution_count": 17,
   "id": "7d5301df",
   "metadata": {},
   "outputs": [
    {
     "name": "stdout",
     "output_type": "stream",
     "text": [
      "Best Parameters:  {'subsample': 0.9, 'n_estimators': 600, 'max_depth': 10, 'learning_rate': 0.1, 'colsample_bytree': 0.8}\n",
      "Best CV Score (neg_mean_squared_error):  -24396.786472472235\n"
     ]
    }
   ],
   "source": [
    "#随机搜索调参\n",
    "from sklearn.model_selection import RandomizedSearchCV\n",
    "import xgboost as xgb\n",
    "xgb_reg = xgb.XGBRegressor()\n",
    "param_dist = {\n",
    "    'max_depth': [5, 7, 10, 15],\n",
    "    'learning_rate': [0.01, 0.1, 0.3, 0.5],\n",
    "    'subsample': [0.8, 0.9, 1.0],\n",
    "    'colsample_bytree': [0.8, 0.9, 1.0],\n",
    "    'n_estimators': [300,400,500,600]\n",
    "}\n",
    "random_search = RandomizedSearchCV(xgb_reg, param_distributions=param_dist, \n",
    "                                   n_iter=10, scoring='neg_mean_squared_error', \n",
    "                                   cv=3, random_state=42)\n",
    "random_search.fit(X_train, y_train)\n",
    "print(\"Best Parameters: \", random_search.best_params_)\n",
    "print(\"Best CV Score (neg_mean_squared_error): \", random_search.best_score_)"
   ]
  },
  {
   "cell_type": "code",
   "execution_count": 7,
   "id": "672a1ebd",
   "metadata": {},
   "outputs": [
    {
     "name": "stdout",
     "output_type": "stream",
     "text": [
      "Fold 1: RMSE = 147.15159556647757\n",
      "Fold 2: RMSE = 146.93124636662054\n",
      "Fold 3: RMSE = 146.03872857888342\n",
      "Fold 4: RMSE = 146.28893065499562\n",
      "Fold 5: RMSE = 149.76896212348137\n",
      "\n",
      "Average RMSE: 147.2358926580917\n"
     ]
    }
   ],
   "source": [
    "#xgboost模型（效果最好，最终选用）\n",
    "import numpy as np\n",
    "import xgboost as xgb\n",
    "from sklearn.model_selection import cross_val_score\n",
    "from sklearn.model_selection import KFold\n",
    "# 使用rmse评估模型性能\n",
    "def rmse(y_true, y_pred):\n",
    "    return np.sqrt(((y_true - y_pred) ** 2).mean())\n",
    "rmse_scorer = make_scorer(rmse, greater_is_better=False)\n",
    "xg = xgb.XGBRegressor(subsample= 0.9, n_estimators=600, max_depth=10, learning_rate= 0.1, colsample_bytree= 0.8)\n",
    "cv_results = cross_val_score(xg, X_train, y_train, cv=KFold(n_splits=5, shuffle=True, random_state=42), scoring=rmse_scorer)\n",
    "rmse_scores = -cv_results  \n",
    "for i, score in enumerate(rmse_scores):\n",
    "    print(f\"Fold {i+1}: RMSE = {score}\")\n",
    "\n",
    "average_rmse = np.mean(rmse_scores)\n",
    "print(f\"\\nAverage RMSE: {average_rmse}\")"
   ]
  },
  {
   "cell_type": "code",
   "execution_count": 10,
   "id": "a4a23be7",
   "metadata": {},
   "outputs": [
    {
     "name": "stdout",
     "output_type": "stream",
     "text": [
      "模型准确率: 0.9780593658123551\n"
     ]
    }
   ],
   "source": [
    "#xgboost模型\n",
    "import numpy as np\n",
    "import xgboost as xgb\n",
    "xg = xgb.XGBRegressor(subsample= 0.9, n_estimators=600, max_depth=10, learning_rate= 0.1, colsample_bytree= 0.8)\n",
    "xg.fit(X_train, y_train)\n",
    "# 准确率参考\n",
    "accuracy = xg.score(X_test, y_test)\n",
    "print(f\"模型准确率: {accuracy}\")"
   ]
  },
  {
   "cell_type": "code",
   "execution_count": 11,
   "id": "dac5de45",
   "metadata": {},
   "outputs": [
    {
     "data": {
      "image/png": "[encoded data removed]",
      "text/plain": [
       "<Figure size 640x480 with 1 Axes>"
      ]
     },
     "metadata": {},
     "output_type": "display_data"
    }
   ],
   "source": [
    "import matplotlib.pyplot as plt\n",
    "y_pred = xg.predict(X_test)\n",
    "plt.scatter(y_test, y_pred)\n",
    "plt.plot([min(y_test), max(y_test)], [min(y_test), max(y_test)], linestyle='--', color='red', label='Perfect Prediction')\n",
    "plt.xlabel('True arrive_time')\n",
    "plt.ylabel('Predicted arrive_time')\n",
    "plt.title('XGBoost Regression - True vs Predicted arrive_time')\n",
    "plt.legend()\n",
    "plt.show()"
   ]
  },
  {
   "cell_type": "code",
   "execution_count": 30,
   "id": "877fb697",
   "metadata": {},
   "outputs": [],
   "source": [
    "#对eta_task进行数据处理\n",
    "import pandas as pd\n",
    "import numpy as np\n",
    "task = pd.read_csv('eta_task.csv')"
   ]
  },
  {
   "cell_type": "code",
   "execution_count": 31,
   "id": "d8eb0da5",
   "metadata": {},
   "outputs": [
    {
     "name": "stdout",
     "output_type": "stream",
     "text": [
      "              id  traj_id                      time  entity_id  \\\n",
      "traj_id                                                          \n",
      "9       0    126        9 2013-10-08 22:30:00+00:00        254   \n",
      "11      2    147       11 2013-10-08 23:00:00+00:00        254   \n",
      "13      4    171       13 2013-10-08 17:15:00+00:00        255   \n",
      "16      6    207       16 2013-10-08 19:00:00+00:00        255   \n",
      "24      8    337       24 2013-10-08 08:00:00+00:00        256   \n",
      "25      10   355       25 2013-10-08 08:30:00+00:00        256   \n",
      "40      12   547       40 2013-10-08 08:30:00+00:00        257   \n",
      "53      14  1040       53 2013-10-08 18:30:00+00:00        257   \n",
      "55      16  1103       55 2013-10-08 19:45:00+00:00        257   \n",
      "60      18  1191       60 2013-10-08 06:15:00+00:00        258   \n",
      "67      20  1439       67 2013-10-08 06:00:00+00:00       4118   \n",
      "77      22  1656       77 2013-10-08 13:45:00+00:00       4118   \n",
      "82      24  1707       82 2013-10-08 09:30:00+00:00       4120   \n",
      "\n",
      "                       coordinates  current_dis    speeds  holidays  \\\n",
      "traj_id                                                               \n",
      "9       0   [116.490013,39.892902]     3.079017  30.97125         0   \n",
      "11      2   [116.450546,39.943771]    12.543428  42.97875         0   \n",
      "13      4   [116.335503,39.763187]     1.500453  45.56250         0   \n",
      "16      6   [116.479919,39.801834]     2.206868  18.41500         0   \n",
      "24      8   [116.229218,39.900791]     7.685249  28.66625         0   \n",
      "25      10  [116.324127,39.897049]     8.070723  25.94625         0   \n",
      "40      12   [116.408173,39.79324]    22.801703  27.89875         0   \n",
      "53      14  [116.360901,39.878113]    14.725643  21.69750         0   \n",
      "55      16  [116.268333,39.883675]     3.292562  21.66250         0   \n",
      "60      18  [116.467606,39.876831]     8.904613  22.89375         0   \n",
      "67      20  [116.351501,39.939926]    23.607039  66.20000         0   \n",
      "77      22  [116.369614,39.985012]     4.869733  23.22875         0   \n",
      "82      24   [116.437233,39.98579]     5.531601  25.43250         0   \n",
      "\n",
      "            end_longitude  end_latitude  start_longitude  start_latitude  \\\n",
      "traj_id                                                                    \n",
      "9       0      116.490013     39.892902       116.511292       39.904655   \n",
      "11      2      116.450546     39.943771       116.440742       40.018944   \n",
      "13      4      116.335503     39.763187       116.341820       39.771339   \n",
      "16      6      116.479919     39.801834       116.493935       39.789604   \n",
      "24      8      116.229218     39.900791       116.314941       39.897045   \n",
      "25      10     116.324127     39.897049       116.410393       39.899246   \n",
      "40      12     116.408173     39.793240       116.470497       39.911777   \n",
      "53      14     116.360901     39.878113       116.284477       39.957474   \n",
      "55      16     116.268333     39.883675       116.266289       39.856838   \n",
      "60      18     116.467606     39.876831       116.378616       39.859783   \n",
      "67      20     116.351501     39.939926       116.541328       40.024174   \n",
      "77      22     116.369614     39.985012       116.332123       39.992634   \n",
      "82      24     116.437233     39.985790       116.461655       39.950142   \n",
      "\n",
      "            timestamp_column  \n",
      "traj_id                       \n",
      "9       0         1381271400  \n",
      "11      2         1381273200  \n",
      "13      4         1381252500  \n",
      "16      6         1381258800  \n",
      "24      8         1381219200  \n",
      "25      10        1381221000  \n",
      "40      12        1381221000  \n",
      "53      14        1381257000  \n",
      "55      16        1381261500  \n",
      "60      18        1381212900  \n",
      "67      20        1381212000  \n",
      "77      22        1381239900  \n",
      "82      24        1381224600  \n"
     ]
    },
    {
     "data": {
      "text/plain": [
       "id                                int64\n",
       "traj_id                           int64\n",
       "time                datetime64[ns, UTC]\n",
       "entity_id                         int64\n",
       "coordinates                      object\n",
       "current_dis                     float64\n",
       "speeds                          float64\n",
       "holidays                          int64\n",
       "end_longitude                   float64\n",
       "end_latitude                    float64\n",
       "start_longitude                 float64\n",
       "start_latitude                  float64\n",
       "timestamp_column                  int64\n",
       "dtype: object"
      ]
     },
     "execution_count": 31,
     "metadata": {},
     "output_type": "execute_result"
    }
   ],
   "source": [
    "# 将'coordinates'列转化为字符串\n",
    "task['coordinates'] = task['coordinates'].astype(str)\n",
    "# 提取浮点类型数据并分别存入两列\n",
    "task[['end_longitude', 'end_latitude']] = task['coordinates'].str.strip('[]').str.split(',', expand=True).astype(float)\n",
    "# 按照'traj_id'分组，并为每组添加新列'start_longitude'，‘start_latitude’\n",
    "task['start_longitude'] = task.groupby('traj_id')['end_longitude'].transform('last')\n",
    "task['start_latitude'] = task.groupby('traj_id')['end_latitude'].transform('last')\n",
    "# 设置距离\n",
    "task['current_dis'] = task.groupby('traj_id')['current_dis'].transform('last')\n",
    "#求平均速度\n",
    "# 按 'traj_id' 分组，计算每组第一行和最后一行 'speeds' 的平均值\n",
    "task['speeds'] = (task.groupby('traj_id')['speeds'].transform('first') + task.groupby('traj_id')['speeds'].transform('last'))*0.5\n",
    "#将'time'转化为时间戳\n",
    "task['time'] = pd.to_datetime(task['time'])\n",
    "task['timestamp_column'] = task['time'].astype(np.int64) // 10**9\n",
    "# 删除每组的最后一行\n",
    "task= task.groupby('traj_id').apply(lambda x: x.iloc[:-1])\n",
    "# 将修改后的数据保存到新的CSV文件\n",
    "task.to_csv('modified.csv', index=False)\n",
    "print(task.head(13))\n",
    "task.dtypes\n"
   ]
  },
  {
   "cell_type": "code",
   "execution_count": 22,
   "id": "1d2de9e8",
   "metadata": {},
   "outputs": [],
   "source": [
    "# 读取CSV文件\n",
    "df = pd.read_csv('new.csv')\n",
    "# 筛选出 'holidays' 列值为 0 的行\n",
    "holiday_df = df[df['holidays'] == 1]\n",
    "workday_df = df[df['holidays'] == 0]\n",
    "# 将筛选结果保存到新的CSV文件\n",
    "holiday_df.to_csv('holiday.csv', index=False)\n",
    "workday_df.to_csv('workday.csv', index=False)"
   ]
  },
  {
   "cell_type": "code",
   "execution_count": 23,
   "id": "0b3f66cb",
   "metadata": {},
   "outputs": [
    {
     "name": "stdout",
     "output_type": "stream",
     "text": [
      "Fold 1: RMSE = 134.3392007593114\n",
      "Fold 2: RMSE = 127.77070173119168\n",
      "Fold 3: RMSE = 130.0800371175413\n",
      "Fold 4: RMSE = 131.14678934315407\n",
      "Fold 5: RMSE = 128.79323246129067\n",
      "\n",
      "Average RMSE: 130.42599228249782\n"
     ]
    }
   ],
   "source": [
    "#节假日场景评估\n",
    "import numpy as np\n",
    "import xgboost as xgb\n",
    "from sklearn.model_selection import cross_val_score\n",
    "from sklearn.model_selection import KFold\n",
    "# 读取CSV文件\n",
    "df = pd.read_csv('holiday.csv')\n",
    "# 选择多个列作为特征\n",
    "selected_features = ['entity_id', 'current_dis','speeds','holidays','end_longitude','end_latitude','start_longitude','start_latitude']\n",
    "X = df[selected_features]\n",
    "# 选择目标列作为标签\n",
    "y = df['time_diff']\n",
    "# 拆分数据集为训练集和测试集\n",
    "X_train, X_test, y_train, y_test = train_test_split(X, y, test_size=0.2, random_state=42)\n",
    "# 使用rmse评估模型性能\n",
    "def rmse(y_true, y_pred):\n",
    "    return np.sqrt(((y_true - y_pred) ** 2).mean())\n",
    "rmse_scorer = make_scorer(rmse, greater_is_better=False)\n",
    "xg = xgb.XGBRegressor(subsample= 0.9, n_estimators=600, max_depth=10, learning_rate= 0.1, colsample_bytree= 0.8)\n",
    "cv_results = cross_val_score(xg, X_train, y_train, cv=KFold(n_splits=5, shuffle=True, random_state=42), scoring=rmse_scorer)\n",
    "rmse_scores = -cv_results  # 取反因为Scikit-learn通常使用\"greater is better\"规则\n",
    "for i, score in enumerate(rmse_scores):\n",
    "    print(f\"Fold {i+1}: RMSE = {score}\")\n",
    "\n",
    "average_rmse = np.mean(rmse_scores)\n",
    "print(f\"\\nAverage RMSE: {average_rmse}\")"
   ]
  },
  {
   "cell_type": "code",
   "execution_count": 24,
   "id": "0f37dd6b",
   "metadata": {},
   "outputs": [
    {
     "name": "stdout",
     "output_type": "stream",
     "text": [
      "Fold 1: RMSE = 136.90461391076116\n",
      "Fold 2: RMSE = 140.98394234400305\n",
      "Fold 3: RMSE = 139.6431950049868\n",
      "Fold 4: RMSE = 139.8848341719177\n",
      "Fold 5: RMSE = 144.2995122114143\n",
      "\n",
      "Average RMSE: 140.3432195286166\n"
     ]
    }
   ],
   "source": [
    "#工作日场景评估\n",
    "import numpy as np\n",
    "import xgboost as xgb\n",
    "from sklearn.model_selection import cross_val_score\n",
    "from sklearn.model_selection import KFold\n",
    "# 读取CSV文件\n",
    "df = pd.read_csv('workday.csv')\n",
    "# 选择多个列作为特征\n",
    "selected_features = ['entity_id', 'current_dis','speeds','holidays','end_longitude','end_latitude','start_longitude','start_latitude']\n",
    "X = df[selected_features]\n",
    "# 选择目标列作为标签\n",
    "y = df['time_diff']\n",
    "# 拆分数据集为训练集和测试集\n",
    "X_train, X_test, y_train, y_test = train_test_split(X, y, test_size=0.2, random_state=42)\n",
    "# 使用rmse评估模型性能\n",
    "def rmse(y_true, y_pred):\n",
    "    return np.sqrt(((y_true - y_pred) ** 2).mean())\n",
    "rmse_scorer = make_scorer(rmse, greater_is_better=False)\n",
    "xg = xgb.XGBRegressor(subsample= 0.9, n_estimators=600, max_depth=10, learning_rate= 0.1, colsample_bytree= 0.8)\n",
    "cv_results = cross_val_score(xg, X_train, y_train, cv=KFold(n_splits=5, shuffle=True, random_state=42), scoring=rmse_scorer)\n",
    "rmse_scores = -cv_results  # 取反因为Scikit-learn通常使用\"greater is better\"规则\n",
    "for i, score in enumerate(rmse_scores):\n",
    "    print(f\"Fold {i+1}: RMSE = {score}\")\n",
    "\n",
    "average_rmse = np.mean(rmse_scores)\n",
    "print(f\"\\nAverage RMSE: {average_rmse}\")"
   ]
  },
  {
   "cell_type": "code",
   "execution_count": null,
   "id": "2849641c",
   "metadata": {},
   "outputs": [],
   "source": []
  }
 ],
 "metadata": {
  "kernelspec": {
   "display_name": "Python 3 (ipykernel)",
   "language": "python",
   "name": "python3"
  },
  "language_info": {
   "codemirror_mode": {
    "name": "ipython",
    "version": 3
   },
   "file_extension": ".py",
   "mimetype": "text/x-python",
   "name": "python",
   "nbconvert_exporter": "python",
   "pygments_lexer": "ipython3",
   "version": "3.10.1"
  }
 },
 "nbformat": 4,
 "nbformat_minor": 5
}
